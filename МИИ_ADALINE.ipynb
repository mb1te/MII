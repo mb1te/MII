{
 "nbformat": 4,
 "nbformat_minor": 0,
 "metadata": {
  "colab": {
   "provenance": [],
   "collapsed_sections": []
  },
  "kernelspec": {
   "name": "python3",
   "display_name": "Python 3"
  },
  "language_info": {
   "name": "python"
  }
 },
 "cells": [
  {
   "cell_type": "markdown",
   "source": [],
   "metadata": {
    "collapsed": false
   }
  },
  {
   "cell_type": "markdown",
   "source": [
    "**Задание:**\n",
    "1. Реализовать метод стохастического градиента для обучения линейных алгоритмов классификации.\n",
    "2. Методом стохастического градиента обучить один из линейных алгоритмов классификации (ADALINE, Правило Хебба, Логистическая регрессия) на первых двух классах выборки ирисов Фишера (выборка в приложении `iris_cropped.json`).\n",
    "3. С помощью обученного алгоритма построить разделяющую прямую между этими классами, и отобразить классы и прямую на графике (см. пример для случайных данных в приложении `linear_classifier.png`)."
   ],
   "metadata": {
    "collapsed": false
   }
  },
  {
   "cell_type": "markdown",
   "source": [
    "**Метод стохастического градиента**\n",
    "\n",
    "Даны $X$ и $Y = \\{-1, +1\\}$\n",
    "\n",
    "$a(x, w) = sign (<w,x> - \\, w_0) = sign \\left(\\sum\\limits_{j = 1}^n f_j(x) * w_j - w_0\\right)$\n",
    "\n",
    "\n",
    "Смысл метода заключается в том, что сначала выбирается начальное приближение вектора $w$, а затем на каждом шаге он улучшается в направлении наиболее быстрого убывания $Q$.\n",
    "\n",
    "Алгоритм:\n",
    "\n",
    "1) Инициализация начального приближения $w$. Например, $random\\left(-\\frac{1}{2*n}, \\frac{1}{2*n}\\right)$.\n",
    "\n",
    "2) $Q = \\sum\\limits_{i = 1}^l L(<w, x_i> y_i)$\n",
    "\n",
    "3.1) Выбрать объект $x_i$\n",
    "\n",
    "3.2) $\\varepsilon _i = L(<w, x_i> y_i)$.\n",
    "\n",
    "3.3) $w = w - \\eta L'(<w, x_i> y_i) x_i y_i$.\n",
    "\n",
    "3.4) $Q = (1 - \\lambda) Q + \\lambda \\varepsilon_i$.\n",
    "\n",
    "3.5) Повторять шаг 3 пока изменяются $Q$ и/или $w$.\n",
    "\n",
    "**Метод ADALINE**\n",
    "\n",
    "Возьмем $L(M) = (M - 1)^2$.\n",
    "\n",
    "Для нее $L'(M) = 2(<w, x_i> y_i) x_i$.\n",
    "\n",
    "Получаем правило обновления весов $w = w - \\eta (<w, x_i> y_i) x_i$."
   ],
   "metadata": {
    "id": "ki32mqivmzpe"
   }
  },
  {
   "cell_type": "code",
   "execution_count": 62,
   "metadata": {
    "id": "xMyVbS3LmIHa"
   },
   "outputs": [],
   "source": [
    "import numpy as np\n",
    "import pandas as pd\n",
    "\n",
    "class LinearBinaryClassifier:\n",
    "  X: pd.DataFrame\n",
    "  y: pd.Series\n",
    "  w: np.ndarray\n",
    "  bias: float\n",
    "\n",
    "  def __init__(self, X, y):\n",
    "    self.X = X\n",
    "    self.X['bias'] = np.ones(len(X))\n",
    "    self.y = y\n",
    "\n",
    "  @property\n",
    "  def size(self):\n",
    "    return len(self.X)\n",
    "\n",
    "  @property\n",
    "  def columns(self):\n",
    "    return len(self.X.iloc[0])\n",
    "\n",
    "  @staticmethod\n",
    "  def loss_function(predicted, needed):\n",
    "    return (predicted * needed - 1)**2\n",
    "\n",
    "  def update(self, predicted, needed, obj, learning_rate):\n",
    "    self.w -= learning_rate * (predicted - needed) * obj\n",
    "\n",
    "  def predict(self, obj):\n",
    "    fx = np.sum(obj * self.w)\n",
    "    return np.sign(fx), fx\n",
    "\n",
    "  def calc_loss(self):\n",
    "    return sum(\n",
    "      self.loss_function(np.dot(obj, self.w), obj_class)\n",
    "      for obj, obj_class in zip(self.X.values, self.y.values)\n",
    "    )\n",
    "\n",
    "  def stochastic_gradient(self, lmbda, learning_rate, break_when_no_errors=True):\n",
    "    self.w = np.random.uniform(-1 / (2 * self.columns), 1 / (2 * self.columns), self.columns)\n",
    "    self.bias = np.random.uniform(-1 / (2 * self.columns), 1 / (2 * self.columns))\n",
    "    cur_loss = self.calc_loss()\n",
    "\n",
    "    for step in range(1, 30000):\n",
    "      errors = [i for i in range(self.size) if np.dot(self.X.values[i], self.w) * self.y.values[i] < 0]\n",
    "      if len(errors) == 0 and break_when_no_errors:\n",
    "        break\n",
    "\n",
    "      ind = np.random.randint(self.size) if len(errors) == 0 else errors[np.random.randint(len(errors))]\n",
    "      x = self.X.values[ind]\n",
    "      y = self.y.values[ind]\n",
    "      fx = np.dot(x, self.w) * y\n",
    "\n",
    "      eps = self.loss_function(fx, y)\n",
    "      self.update(fx, y, x, learning_rate)\n",
    "      loss = (1 - lmbda) * cur_loss + lmbda * eps\n",
    "      if abs(loss - cur_loss) < 0.0001:\n",
    "        return\n",
    "\n",
    "      cur_loss = loss"
   ]
  },
  {
   "cell_type": "markdown",
   "source": [
    "Загрузим выборку ирисов Фишера, классифицировать будем первые два класса. Для наглядности выберем первые два признака."
   ],
   "metadata": {
    "id": "F0HSREv-qmxX"
   }
  },
  {
   "cell_type": "code",
   "source": [
    "import json\n",
    "import pandas as pd\n",
    "\n",
    "with open('iris_cropped.json') as f:\n",
    "  iris_dict = json.loads(f.read())\n",
    "\n",
    "df = pd.DataFrame(iris_dict, columns=[\"x\", \"y\", \"ans\"])\n",
    "X = df[['x', 'y']]\n",
    "y = df[['ans']].iloc[:, 0].replace(to_replace=0, value=-1)"
   ],
   "metadata": {
    "id": "JeMejAyFoU7X"
   },
   "execution_count": 66,
   "outputs": []
  },
  {
   "cell_type": "code",
   "source": [
    "adaline = LinearBinaryClassifier(X, y)\n",
    "adaline.stochastic_gradient(0.01, 0.01)"
   ],
   "metadata": {
    "colab": {
     "base_uri": "https://localhost:8080/",
     "height": 269
    },
    "id": "OC10g83Go__8",
    "outputId": "5d58d821-725d-458f-9482-3d7b95db9b7d"
   },
   "execution_count": 69,
   "outputs": []
  },
  {
   "cell_type": "markdown",
   "source": [
    "ADALINE успешно разделяет два класса из ирисов фишера"
   ],
   "metadata": {
    "id": "4jvrjbj7xKdN"
   }
  },
  {
   "cell_type": "code",
   "execution_count": 70,
   "outputs": [
    {
     "data": {
      "text/plain": "<Figure size 640x480 with 1 Axes>",
      "image/png": "[encoded data removed]"
     },
     "metadata": {},
     "output_type": "display_data"
    }
   ],
   "source": [
    "from matplotlib import pyplot as plt\n",
    "STEP = 0.1\n",
    "x = np.linspace(X['x'].min(), X['x'].max(), 100)\n",
    "\n",
    "plt.plot(x, (-adaline.w[2] - adaline.w[0] * x) / adaline.w[1], color=\"red\", linewidth=5)\n",
    "\n",
    "color = {1: 'green', -1: 'red'}\n",
    "\n",
    "for ind in range(adaline.size):\n",
    "  plt.scatter(\n",
    "    adaline.X['x'].values[ind],\n",
    "    adaline.X['y'].values[ind],\n",
    "    color=color[adaline.y.values[ind]],\n",
    "    edgecolors='black',\n",
    "    zorder=10\n",
    "  )\n",
    "\n",
    "plt.xlim(X['x'].min() - STEP, X['x'].max() + STEP)\n",
    "plt.ylim(X['y'].min() - STEP, X['y'].max() + STEP)\n",
    "plt.show()"
   ],
   "metadata": {
    "collapsed": false
   }
  }
 ]
}
