{
 "cells": [
  {
   "cell_type": "markdown",
   "source": [
    "**Задание:**\n",
    "1. Используя методы нечёткой логики (например, нечёткое сравнение строк), реализовать алгоритм, выполняющий поиск и маркировку дубликатов в данных, приложенных к заданию.\n",
    "2. Результатом работы программы должна стать исходная выборка с новой колонкой \"Group\", в которой должны находиться номера кластеров для каждой записи. Записи, находящиеся в одном кластере, считаются дубликатами друг друга."
   ],
   "metadata": {
    "collapsed": false
   }
  },
  {
   "cell_type": "markdown",
   "source": [
    "Прочитаем датасет:"
   ],
   "metadata": {
    "collapsed": false
   }
  },
  {
   "cell_type": "code",
   "execution_count": 9,
   "metadata": {
    "collapsed": true
   },
   "outputs": [
    {
     "data": {
      "text/plain": "    score_phrase                       title  \\\n0        Amazing                  S.I.M.I.S.   \n1        Amazing                S .yI.MbI.S.   \n2        Amazing                  S.I.M.I.S.   \n3           Okay         Namco Museum Vol. 4   \n4           Okay         Namco Museum Vol. 4   \n..           ...                         ...   \n709         Good     Bomberman Land Touch! 2   \n710         Good   Bomberca  n Labd Touyh! 2   \n711         Good     Bomberman Land Touch! 2   \n712         Good     Bomberman Land Touch! 2   \n713         Good  Bomberman L and Tou  ch! 2   \n\n                                          url        platform  score  \\\n0                     /games/simis/lynx-12176            Lynx  9.000   \n1                   /games/simis/ lynx-1217 6          L  ynx  9.000   \n2                     /games/simis/lynx-12176            Lynx  9.000   \n3           /games/namco-museum-vol-4/ps-2089     PlayStation  6.000   \n4         /games/namco-muse um-vol -4/ps-2089    PlayStat ion  6.000   \n..                                        ...             ...    ...   \n709     /games/bomberman-land-2008/nds-903267     Nintendo DS  7.900   \n710  /g a mes/bomberman-land-2008/nds-9032 67  Ninte nd  o DS  7.821   \n711   /games/bomberman -land- 2008/nds-903267  N inte nd o DS  7.821   \n712  /games /bombe rman-land-2008/n ds-903267     Nintendo DS  7.900   \n713  /games/bombe rm an -land-2008/nds-903267  Nint end o  DS  7.900   \n\n                   genre  release_year  \n0                 Action          1999  \n1              A  ntoion          1999  \n2                 Action          1999  \n3    Action, Compilation          1997  \n4    Action, Compilation          1997  \n..                   ...           ...  \n709               Action          2008  \n710               Action          2008  \n711               Action          2008  \n712            Act if  n          2008  \n713            i Acetion          2008  \n\n[714 rows x 7 columns]",
      "text/html": "<div>\n<style scoped>\n    .dataframe tbody tr th:only-of-type {\n        vertical-align: middle;\n    }\n\n    .dataframe tbody tr th {\n        vertical-align: top;\n    }\n\n    .dataframe thead th {\n        text-align: right;\n    }\n</style>\n<table border=\"1\" class=\"dataframe\">\n  <thead>\n    <tr style=\"text-align: right;\">\n      <th></th>\n      <th>score_phrase</th>\n      <th>title</th>\n      <th>url</th>\n      <th>platform</th>\n      <th>score</th>\n      <th>genre</th>\n      <th>release_year</th>\n    </tr>\n  </thead>\n  <tbody>\n    <tr>\n      <th>0</th>\n      <td>Amazing</td>\n      <td>S.I.M.I.S.</td>\n      <td>/games/simis/lynx-12176</td>\n      <td>Lynx</td>\n      <td>9.000</td>\n      <td>Action</td>\n      <td>1999</td>\n    </tr>\n    <tr>\n      <th>1</th>\n      <td>Amazing</td>\n      <td>S .yI.MbI.S.</td>\n      <td>/games/simis/ lynx-1217 6</td>\n      <td>L  ynx</td>\n      <td>9.000</td>\n      <td>A  ntoion</td>\n      <td>1999</td>\n    </tr>\n    <tr>\n      <th>2</th>\n      <td>Amazing</td>\n      <td>S.I.M.I.S.</td>\n      <td>/games/simis/lynx-12176</td>\n      <td>Lynx</td>\n      <td>9.000</td>\n      <td>Action</td>\n      <td>1999</td>\n    </tr>\n    <tr>\n      <th>3</th>\n      <td>Okay</td>\n      <td>Namco Museum Vol. 4</td>\n      <td>/games/namco-museum-vol-4/ps-2089</td>\n      <td>PlayStation</td>\n      <td>6.000</td>\n      <td>Action, Compilation</td>\n      <td>1997</td>\n    </tr>\n    <tr>\n      <th>4</th>\n      <td>Okay</td>\n      <td>Namco Museum Vol. 4</td>\n      <td>/games/namco-muse um-vol -4/ps-2089</td>\n      <td>PlayStat ion</td>\n      <td>6.000</td>\n      <td>Action, Compilation</td>\n      <td>1997</td>\n    </tr>\n    <tr>\n      <th>...</th>\n      <td>...</td>\n      <td>...</td>\n      <td>...</td>\n      <td>...</td>\n      <td>...</td>\n      <td>...</td>\n      <td>...</td>\n    </tr>\n    <tr>\n      <th>709</th>\n      <td>Good</td>\n      <td>Bomberman Land Touch! 2</td>\n      <td>/games/bomberman-land-2008/nds-903267</td>\n      <td>Nintendo DS</td>\n      <td>7.900</td>\n      <td>Action</td>\n      <td>2008</td>\n    </tr>\n    <tr>\n      <th>710</th>\n      <td>Good</td>\n      <td>Bomberca  n Labd Touyh! 2</td>\n      <td>/g a mes/bomberman-land-2008/nds-9032 67</td>\n      <td>Ninte nd  o DS</td>\n      <td>7.821</td>\n      <td>Action</td>\n      <td>2008</td>\n    </tr>\n    <tr>\n      <th>711</th>\n      <td>Good</td>\n      <td>Bomberman Land Touch! 2</td>\n      <td>/games/bomberman -land- 2008/nds-903267</td>\n      <td>N inte nd o DS</td>\n      <td>7.821</td>\n      <td>Action</td>\n      <td>2008</td>\n    </tr>\n    <tr>\n      <th>712</th>\n      <td>Good</td>\n      <td>Bomberman Land Touch! 2</td>\n      <td>/games /bombe rman-land-2008/n ds-903267</td>\n      <td>Nintendo DS</td>\n      <td>7.900</td>\n      <td>Act if  n</td>\n      <td>2008</td>\n    </tr>\n    <tr>\n      <th>713</th>\n      <td>Good</td>\n      <td>Bomberman L and Tou  ch! 2</td>\n      <td>/games/bombe rm an -land-2008/nds-903267</td>\n      <td>Nint end o  DS</td>\n      <td>7.900</td>\n      <td>i Acetion</td>\n      <td>2008</td>\n    </tr>\n  </tbody>\n</table>\n<p>714 rows × 7 columns</p>\n</div>"
     },
     "execution_count": 9,
     "metadata": {},
     "output_type": "execute_result"
    }
   ],
   "source": [
    "import pandas as pd\n",
    "df = pd.read_csv('ign.csv')\n",
    "df"
   ]
  },
  {
   "cell_type": "markdown",
   "source": [
    "Выведем типы ячеек:"
   ],
   "metadata": {
    "collapsed": false
   }
  },
  {
   "cell_type": "code",
   "execution_count": 10,
   "outputs": [
    {
     "data": {
      "text/plain": "[str, str, str, str, numpy.float64, str, numpy.int64]"
     },
     "execution_count": 10,
     "metadata": {},
     "output_type": "execute_result"
    }
   ],
   "source": [
    "[type(val) for val in df.iloc[0].values]"
   ],
   "metadata": {
    "collapsed": false
   }
  },
  {
   "cell_type": "markdown",
   "source": [
    "Считать расстояние между строками будем расстоянием Левенштейна"
   ],
   "metadata": {
    "collapsed": false
   }
  },
  {
   "cell_type": "code",
   "execution_count": 130,
   "outputs": [],
   "source": [
    "import numpy as np\n",
    "\n",
    "def levenshtein_distance(value1, value2):\n",
    "    rows, cols = len(value1) + 1, len(value2) + 1\n",
    "    distances = np.zeros((rows, cols))\n",
    "\n",
    "    for i in range(1, rows):\n",
    "        for j in range(1, cols):\n",
    "            distances[i][0] = i\n",
    "            distances[0][j] = j\n",
    "\n",
    "    for j in range(1, cols):\n",
    "        for i in range(1, rows):\n",
    "            dist = int(value1[i - 1] != value2[j - 1])\n",
    "            distances[i][j] = min(\n",
    "                distances[i - 1][j] + 1,\n",
    "                distances[i][j - 1] + 1,\n",
    "                distances[i - 1][j - 1] + dist\n",
    "            )\n",
    "\n",
    "    total_length = len(value1) + len(value2)\n",
    "    distance = distances[rows - 1][cols - 1]\n",
    "    return (total_length - distance) / total_length"
   ],
   "metadata": {
    "collapsed": false
   }
  },
  {
   "cell_type": "markdown",
   "source": [
    "Покажем работу функции на пример из датасета:"
   ],
   "metadata": {
    "collapsed": false
   }
  },
  {
   "cell_type": "code",
   "execution_count": 131,
   "outputs": [
    {
     "data": {
      "text/plain": "0.8636363636363636"
     },
     "execution_count": 131,
     "metadata": {},
     "output_type": "execute_result"
    }
   ],
   "source": [
    "levenshtein_distance(\"S.I.M.I.S.\", \"S .yI.MbI.S.\")"
   ],
   "metadata": {
    "collapsed": false
   }
  },
  {
   "cell_type": "markdown",
   "source": [
    "В датасете есть три типа столбцов: строки, числа и год"
   ],
   "metadata": {
    "collapsed": false
   }
  },
  {
   "cell_type": "code",
   "execution_count": 132,
   "outputs": [],
   "source": [
    "from enum import IntEnum\n",
    "\n",
    "class ColumnType(IntEnum):\n",
    "    STRING = 0\n",
    "    NUMBER = 1\n",
    "    YEAR = 2"
   ],
   "metadata": {
    "collapsed": false
   }
  },
  {
   "cell_type": "markdown",
   "source": [
    "Строки будем сравнивать расстоянием Левенштейна с заданным ratio\n",
    "Числа будем сравнивать относительно максимального в выборке с заданным ratio\n",
    "Года будем сравнивать строго"
   ],
   "metadata": {
    "collapsed": false
   }
  },
  {
   "cell_type": "code",
   "execution_count": 158,
   "outputs": [],
   "source": [
    "STRING_RATIO = 0.55\n",
    "NUMBER_RATIO = 0.9\n",
    "\n",
    "def compare_records(value1, value2, score_maxv):\n",
    "    score_phrase1, title1, url1, platform1, score1, genre1, release_year1, _ = value1\n",
    "    score_phrase2, title2, url2, platform2, score2, genre2, release_year2, _ = value2\n",
    "\n",
    "    score_phrase_ratio = distance(score_phrase1, score_phrase2, ColumnType.STRING)\n",
    "    title_ratio = distance(title1, title1, ColumnType.STRING)\n",
    "    url_ratio = distance(url1, url2, ColumnType.STRING)\n",
    "    platform_ratio = distance(platform1, platform2, ColumnType.STRING)\n",
    "    score_ratio = distance(score1, score2, ColumnType.NUMBER, maxv=score_maxv)\n",
    "    genre_ratio = distance(genre1, genre2, ColumnType.STRING)\n",
    "    release_year_ratio = distance(release_year1, release_year2, ColumnType.YEAR)\n",
    "    has_equal = (\n",
    "        score_phrase_ratio > STRING_RATIO and\n",
    "        title_ratio > STRING_RATIO and\n",
    "        url_ratio > STRING_RATIO and\n",
    "        platform_ratio > STRING_RATIO and\n",
    "        score_ratio > NUMBER_RATIO and\n",
    "        genre_ratio > STRING_RATIO and\n",
    "        release_year_ratio == 1\n",
    "    )\n",
    "    total_distance = score_phrase_ratio + title_ratio + url_ratio + score_ratio + genre_ratio + release_year_ratio\n",
    "    return has_equal, total_distance"
   ],
   "metadata": {
    "collapsed": false
   }
  },
  {
   "cell_type": "markdown",
   "source": [
    "Добавим столбец с идентификатором кластера"
   ],
   "metadata": {
    "collapsed": false
   }
  },
  {
   "cell_type": "code",
   "execution_count": 159,
   "outputs": [],
   "source": [
    "df = df.assign(cluster=0)"
   ],
   "metadata": {
    "collapsed": false
   }
  },
  {
   "cell_type": "markdown",
   "source": [
    "Воспользуемся тем, что в данном датасете кластеры идут по возрастанию и будем сравнивать с предыдущей строкой.\n",
    "В общем случае необходимо сравнивать запись с представителем каждого кластера."
   ],
   "metadata": {
    "collapsed": false
   }
  },
  {
   "cell_type": "code",
   "execution_count": 160,
   "outputs": [],
   "source": [
    "score_maxv = df['score'].max()\n",
    "\n",
    "for idx in range(1, len(df)):\n",
    "    is_new_cluster = True\n",
    "    cur_record = df.values[idx]\n",
    "    prev_cluster_record = df.values[idx - 1]\n",
    "\n",
    "    has_equal, _ = compare_records(cur_record, prev_cluster_record, score_maxv)\n",
    "    df.loc[idx, 'cluster'] = df.loc[idx - 1, 'cluster'] + int(not has_equal)\n"
   ],
   "metadata": {
    "collapsed": false
   }
  },
  {
   "cell_type": "markdown",
   "source": [
    "Выведем полученный столбец идентификатора кластера:"
   ],
   "metadata": {
    "collapsed": false
   }
  },
  {
   "cell_type": "code",
   "execution_count": 163,
   "outputs": [
    {
     "data": {
      "text/plain": "    score_phrase                       title  \\\n0        Amazing                  S.I.M.I.S.   \n1        Amazing                S .yI.MbI.S.   \n2        Amazing                  S.I.M.I.S.   \n3           Okay         Namco Museum Vol. 4   \n4           Okay         Namco Museum Vol. 4   \n..           ...                         ...   \n709         Good     Bomberman Land Touch! 2   \n710         Good   Bomberca  n Labd Touyh! 2   \n711         Good     Bomberman Land Touch! 2   \n712         Good     Bomberman Land Touch! 2   \n713         Good  Bomberman L and Tou  ch! 2   \n\n                                          url        platform  score  \\\n0                     /games/simis/lynx-12176            Lynx  9.000   \n1                   /games/simis/ lynx-1217 6          L  ynx  9.000   \n2                     /games/simis/lynx-12176            Lynx  9.000   \n3           /games/namco-museum-vol-4/ps-2089     PlayStation  6.000   \n4         /games/namco-muse um-vol -4/ps-2089    PlayStat ion  6.000   \n..                                        ...             ...    ...   \n709     /games/bomberman-land-2008/nds-903267     Nintendo DS  7.900   \n710  /g a mes/bomberman-land-2008/nds-9032 67  Ninte nd  o DS  7.821   \n711   /games/bomberman -land- 2008/nds-903267  N inte nd o DS  7.821   \n712  /games /bombe rman-land-2008/n ds-903267     Nintendo DS  7.900   \n713  /games/bombe rm an -land-2008/nds-903267  Nint end o  DS  7.900   \n\n                   genre  release_year  cluster  \n0                 Action          1999        0  \n1              A  ntoion          1999        0  \n2                 Action          1999        0  \n3    Action, Compilation          1997        1  \n4    Action, Compilation          1997        1  \n..                   ...           ...      ...  \n709               Action          2008      226  \n710               Action          2008      226  \n711               Action          2008      226  \n712            Act if  n          2008      226  \n713            i Acetion          2008      226  \n\n[714 rows x 8 columns]",
      "text/html": "<div>\n<style scoped>\n    .dataframe tbody tr th:only-of-type {\n        vertical-align: middle;\n    }\n\n    .dataframe tbody tr th {\n        vertical-align: top;\n    }\n\n    .dataframe thead th {\n        text-align: right;\n    }\n</style>\n<table border=\"1\" class=\"dataframe\">\n  <thead>\n    <tr style=\"text-align: right;\">\n      <th></th>\n      <th>score_phrase</th>\n      <th>title</th>\n      <th>url</th>\n      <th>platform</th>\n      <th>score</th>\n      <th>genre</th>\n      <th>release_year</th>\n      <th>cluster</th>\n    </tr>\n  </thead>\n  <tbody>\n    <tr>\n      <th>0</th>\n      <td>Amazing</td>\n      <td>S.I.M.I.S.</td>\n      <td>/games/simis/lynx-12176</td>\n      <td>Lynx</td>\n      <td>9.000</td>\n      <td>Action</td>\n      <td>1999</td>\n      <td>0</td>\n    </tr>\n    <tr>\n      <th>1</th>\n      <td>Amazing</td>\n      <td>S .yI.MbI.S.</td>\n      <td>/games/simis/ lynx-1217 6</td>\n      <td>L  ynx</td>\n      <td>9.000</td>\n      <td>A  ntoion</td>\n      <td>1999</td>\n      <td>0</td>\n    </tr>\n    <tr>\n      <th>2</th>\n      <td>Amazing</td>\n      <td>S.I.M.I.S.</td>\n      <td>/games/simis/lynx-12176</td>\n      <td>Lynx</td>\n      <td>9.000</td>\n      <td>Action</td>\n      <td>1999</td>\n      <td>0</td>\n    </tr>\n    <tr>\n      <th>3</th>\n      <td>Okay</td>\n      <td>Namco Museum Vol. 4</td>\n      <td>/games/namco-museum-vol-4/ps-2089</td>\n      <td>PlayStation</td>\n      <td>6.000</td>\n      <td>Action, Compilation</td>\n      <td>1997</td>\n      <td>1</td>\n    </tr>\n    <tr>\n      <th>4</th>\n      <td>Okay</td>\n      <td>Namco Museum Vol. 4</td>\n      <td>/games/namco-muse um-vol -4/ps-2089</td>\n      <td>PlayStat ion</td>\n      <td>6.000</td>\n      <td>Action, Compilation</td>\n      <td>1997</td>\n      <td>1</td>\n    </tr>\n    <tr>\n      <th>...</th>\n      <td>...</td>\n      <td>...</td>\n      <td>...</td>\n      <td>...</td>\n      <td>...</td>\n      <td>...</td>\n      <td>...</td>\n      <td>...</td>\n    </tr>\n    <tr>\n      <th>709</th>\n      <td>Good</td>\n      <td>Bomberman Land Touch! 2</td>\n      <td>/games/bomberman-land-2008/nds-903267</td>\n      <td>Nintendo DS</td>\n      <td>7.900</td>\n      <td>Action</td>\n      <td>2008</td>\n      <td>226</td>\n    </tr>\n    <tr>\n      <th>710</th>\n      <td>Good</td>\n      <td>Bomberca  n Labd Touyh! 2</td>\n      <td>/g a mes/bomberman-land-2008/nds-9032 67</td>\n      <td>Ninte nd  o DS</td>\n      <td>7.821</td>\n      <td>Action</td>\n      <td>2008</td>\n      <td>226</td>\n    </tr>\n    <tr>\n      <th>711</th>\n      <td>Good</td>\n      <td>Bomberman Land Touch! 2</td>\n      <td>/games/bomberman -land- 2008/nds-903267</td>\n      <td>N inte nd o DS</td>\n      <td>7.821</td>\n      <td>Action</td>\n      <td>2008</td>\n      <td>226</td>\n    </tr>\n    <tr>\n      <th>712</th>\n      <td>Good</td>\n      <td>Bomberman Land Touch! 2</td>\n      <td>/games /bombe rman-land-2008/n ds-903267</td>\n      <td>Nintendo DS</td>\n      <td>7.900</td>\n      <td>Act if  n</td>\n      <td>2008</td>\n      <td>226</td>\n    </tr>\n    <tr>\n      <th>713</th>\n      <td>Good</td>\n      <td>Bomberman L and Tou  ch! 2</td>\n      <td>/games/bombe rm an -land-2008/nds-903267</td>\n      <td>Nint end o  DS</td>\n      <td>7.900</td>\n      <td>i Acetion</td>\n      <td>2008</td>\n      <td>226</td>\n    </tr>\n  </tbody>\n</table>\n<p>714 rows × 8 columns</p>\n</div>"
     },
     "execution_count": 163,
     "metadata": {},
     "output_type": "execute_result"
    }
   ],
   "source": [
    "df"
   ],
   "metadata": {
    "collapsed": false
   }
  },
  {
   "cell_type": "markdown",
   "source": [
    "Посчитаем accuracy:"
   ],
   "metadata": {
    "collapsed": false
   }
  },
  {
   "cell_type": "code",
   "execution_count": 162,
   "outputs": [
    {
     "data": {
      "text/plain": "0.9089635854341737"
     },
     "execution_count": 162,
     "metadata": {},
     "output_type": "execute_result"
    }
   ],
   "source": [
    "sum(\n",
    "    idx == 0 or\n",
    "    (df.loc[idx, 'score_phrase'] == df.loc[idx - 1, 'score_phrase']) ==\n",
    "    (df.loc[idx, 'cluster'] == df.loc[idx - 1, 'cluster'])\n",
    "    for idx in range(len(df))\n",
    ") / len(df)"
   ],
   "metadata": {
    "collapsed": false
   }
  }
 ],
 "metadata": {
  "kernelspec": {
   "display_name": "Python 3",
   "language": "python",
   "name": "python3"
  },
  "language_info": {
   "codemirror_mode": {
    "name": "ipython",
    "version": 2
   },
   "file_extension": ".py",
   "mimetype": "text/x-python",
   "name": "python",
   "nbconvert_exporter": "python",
   "pygments_lexer": "ipython2",
   "version": "2.7.6"
  }
 },
 "nbformat": 4,
 "nbformat_minor": 0
}
